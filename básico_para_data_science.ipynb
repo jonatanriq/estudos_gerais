{
  "nbformat": 4,
  "nbformat_minor": 0,
  "metadata": {
    "colab": {
      "name": "básico_para_data_science.ipynb",
      "provenance": [],
      "collapsed_sections": [],
      "authorship_tag": "ABX9TyMUrz5JLZ1iYuopYmBN4ekM",
      "include_colab_link": true
    },
    "kernelspec": {
      "name": "python3",
      "display_name": "Python 3"
    },
    "language_info": {
      "name": "python"
    }
  },
  "cells": [
    {
      "cell_type": "markdown",
      "metadata": {
        "id": "view-in-github",
        "colab_type": "text"
      },
      "source": [
        "<a href=\"https://colab.research.google.com/github/jonatanriq/estudos_gerais/blob/main/b%C3%A1sico_para_data_science.ipynb\" target=\"_parent\"><img src=\"https://colab.research.google.com/assets/colab-badge.svg\" alt=\"Open In Colab\"/></a>"
      ]
    },
    {
      "cell_type": "code",
      "metadata": {
        "id": "Re08B_kwGI9k"
      },
      "source": [
        "planetas = ['mercurio', 'venus', 'terra', 'marte', 'jupiter', 'saturno', 'urano', 'netuno']\n"
      ],
      "execution_count": null,
      "outputs": []
    },
    {
      "cell_type": "markdown",
      "metadata": {
        "id": "Xp3wi68yw5th"
      },
      "source": [
        "**Retornando os Valores Dentro de um Intervalo Definido**\n",
        "\n",
        "\n",
        "\n",
        "\n"
      ]
    },
    {
      "cell_type": "code",
      "metadata": {
        "colab": {
          "base_uri": "https://localhost:8080/"
        },
        "id": "1pJbv2NvdXMX",
        "outputId": "e4dabf5c-92b2-426e-9ca4-a2c0fe53fde9"
      },
      "source": [
        "for planeta in planetas[1:4]:\n",
        "  print(f'planeta = {planeta}')"
      ],
      "execution_count": null,
      "outputs": [
        {
          "output_type": "stream",
          "text": [
            "planeta = venus\n",
            "planeta = terra\n",
            "planeta = marte\n"
          ],
          "name": "stdout"
        }
      ]
    },
    {
      "cell_type": "markdown",
      "metadata": {
        "id": "moD7amjmwzAW"
      },
      "source": [
        "**Enumerando os Elementos**"
      ]
    },
    {
      "cell_type": "code",
      "metadata": {
        "id": "e4-Hzv7Ld53L",
        "colab": {
          "base_uri": "https://localhost:8080/"
        },
        "outputId": "ab9a7132-48f7-4f9e-f475-c059f5ec314a"
      },
      "source": [
        "\n",
        "for i, plan in enumerate(planetas):\n",
        "  print(f'planeta[{i}] = {plan}')"
      ],
      "execution_count": null,
      "outputs": [
        {
          "output_type": "stream",
          "text": [
            "planeta[0] = mercurio\n",
            "planeta[1] = venus\n",
            "planeta[2] = terra\n",
            "planeta[3] = marte\n",
            "planeta[4] = jupiter\n",
            "planeta[5] = saturno\n",
            "planeta[6] = urano\n",
            "planeta[7] = netuno\n"
          ],
          "name": "stdout"
        }
      ]
    },
    {
      "cell_type": "code",
      "metadata": {
        "id": "aedMegJUgkUm"
      },
      "source": [
        "numeros = [10, 5, 20, 2]\n",
        "print('o Menor número é {}'.format(min(numeros)))\n",
        "print('o maior número é {}'.format(max(numeros)))\n",
        "print('a soma dos número é {}'.format(sum(numeros)))"
      ],
      "execution_count": null,
      "outputs": []
    },
    {
      "cell_type": "markdown",
      "metadata": {
        "id": "m58qVqOCvnZR"
      },
      "source": [
        "**TRABALHANDO COM LISTAS**"
      ]
    },
    {
      "cell_type": "code",
      "metadata": {
        "id": "NVogDl7Mh7B0"
      },
      "source": [
        "# ADICIONANDO A ÚLTIMA POSIÇÃO NA LISTA\n",
        "planetas.append('plutão')\n",
        "print(planetas)"
      ],
      "execution_count": null,
      "outputs": []
    },
    {
      "cell_type": "code",
      "metadata": {
        "id": "Af4hIYkziAsY"
      },
      "source": [
        "# REMOVENDO O ÚLTIMO TERMO\n",
        "ultimo_planeta = planetas.pop()\n",
        "print(planetas)"
      ],
      "execution_count": null,
      "outputs": []
    },
    {
      "cell_type": "code",
      "metadata": {
        "id": "FvjbVK4oiokI"
      },
      "source": [
        "planetas.append('saturno')\n",
        "planetas.append('urano')\n",
        "planetas.append('netuno')\n",
        "print(planetas)"
      ],
      "execution_count": null,
      "outputs": []
    },
    {
      "cell_type": "code",
      "metadata": {
        "id": "pQUrWpopi5C5"
      },
      "source": [
        "#REVERTENDO A ORDEM ==> SEM PERDER A LISTA ORIGINAL <==\n",
        "planetas_revertidos = list(planetas)\n",
        "planetas_revertidos.reverse()\n",
        "print(planetas_revertidos)"
      ],
      "execution_count": null,
      "outputs": []
    },
    {
      "cell_type": "code",
      "metadata": {
        "id": "SZrXERwHj2tu"
      },
      "source": [
        "# ORDENANDO OS NÚMEROS\n",
        "numeros_ordenados = sorted(numeros)\n",
        "print(numeros_ordenados)\n",
        "print(numeros)"
      ],
      "execution_count": null,
      "outputs": []
    },
    {
      "cell_type": "code",
      "metadata": {
        "id": "zndw-AcFj_yr"
      },
      "source": [
        "# ORDENANDO POR ORDEM ALFABETICA\n",
        "planetas_ordenados = sorted(planetas)\n",
        "print(planetas)\n",
        "print(planetas_ordenados)"
      ],
      "execution_count": null,
      "outputs": []
    },
    {
      "cell_type": "code",
      "metadata": {
        "id": "8AGkN_Znko1w"
      },
      "source": [
        "#LISTANDO EM ORDEM REVERSA\n",
        "numeros_ord_reversa = sorted(numeros)\n",
        "numeros_ord_reversa.reverse()\n",
        "print(numeros_ord_reversa)"
      ],
      "execution_count": null,
      "outputs": []
    },
    {
      "cell_type": "code",
      "metadata": {
        "id": "Zubatm0nk7uu"
      },
      "source": [
        "#BUSCANDO ELEMENTOS NUMA LISTA\n",
        "print(planetas)\n",
        "# qual o índice do elemento 'marte'?\n",
        "planetas.index('marte')\n",
        "\n",
        "# só checar se tem o elemento na lista\n",
        "'marte' in planetas\n",
        "\n",
        "# checar se não contém um elemento na lista\n",
        "'brasil' not in planetas"
      ],
      "execution_count": null,
      "outputs": []
    },
    {
      "cell_type": "markdown",
      "metadata": {
        "id": "U6pVd6bCwLlh"
      },
      "source": [
        "**Concatenando Listas (2 MÉTODOS)**"
      ]
    },
    {
      "cell_type": "code",
      "metadata": {
        "id": "bHAi34pJwX13"
      },
      "source": [
        "cidades_centro = ['sao paulo', 'santo andre', 'sao caetano', 'sao bernardo']\n",
        "cidades_interior = ['pompeia', 'campinas', 'hortolandia']"
      ],
      "execution_count": null,
      "outputs": []
    },
    {
      "cell_type": "code",
      "metadata": {
        "id": "M8FHnmZLmEQF"
      },
      "source": [
        "#CONCATENANDO LISTAS - MÉTODO 1\n",
        "\n",
        "cidades_estado = cidades_centro + cidades_interior "
      ],
      "execution_count": null,
      "outputs": []
    },
    {
      "cell_type": "code",
      "metadata": {
        "id": "26n9Gco4n-QB"
      },
      "source": [
        "#CONCATENANDO LISTAS - MÉTODO 2\n",
        "\n",
        "cidades_estado = list(cidades_centro)\n",
        "cidades_estado.extend(cidades_interior)\n",
        "print(cidades_estado)"
      ],
      "execution_count": null,
      "outputs": []
    },
    {
      "cell_type": "markdown",
      "metadata": {
        "id": "OM_rgPxivPiP"
      },
      "source": [
        "**LIST COMPREHENSION**"
      ]
    },
    {
      "cell_type": "code",
      "metadata": {
        "colab": {
          "base_uri": "https://localhost:8080/"
        },
        "id": "GU4qQ-cwog8D",
        "outputId": "be2b89f1-ad52-45f8-808b-73a809f2f262"
      },
      "source": [
        "#LIST COMPREHENSIONS\n",
        "\n",
        "# método 1\n",
        "quadrados = []\n",
        " \n",
        "for i in range(10):\n",
        "  quadrados.append(i ** 2)\n",
        " \n",
        "print(quadrados)"
      ],
      "execution_count": null,
      "outputs": [
        {
          "output_type": "stream",
          "text": [
            "[0, 1, 4, 9, 16, 25, 36, 49, 64, 81]\n"
          ],
          "name": "stdout"
        }
      ]
    },
    {
      "cell_type": "code",
      "metadata": {
        "colab": {
          "base_uri": "https://localhost:8080/"
        },
        "id": "u6oxaUoxsAUk",
        "outputId": "9ca6aaff-0c32-43fd-9fd8-3c4d109b2e3c"
      },
      "source": [
        "#LIST COMPREHENSIONS\n",
        "\n",
        "# método 2\n",
        "\n",
        "quadrados = list(range(10))\n",
        "print(f'ANTES {quadrados}')\n",
        "\n",
        "for i, num in enumerate(quadrados):\n",
        "  quadrados[i] = num ** 2 ## não entendo muito bem o que ele faz aqui\n",
        "print(f'DEPOIS {quadrados}')"
      ],
      "execution_count": null,
      "outputs": [
        {
          "output_type": "stream",
          "text": [
            "ANTES [0, 1, 2, 3, 4, 5, 6, 7, 8, 9]\n",
            "DEPOIS [0, 1, 4, 9, 16, 25, 36, 49, 64, 81]\n"
          ],
          "name": "stdout"
        }
      ]
    },
    {
      "cell_type": "code",
      "metadata": {
        "colab": {
          "base_uri": "https://localhost:8080/"
        },
        "id": "KmiM_e9cszpZ",
        "outputId": "c0bdb11c-171a-41fc-9816-8035a5621793"
      },
      "source": [
        "# USANDO LIST COMPREHENSIONS\n",
        "\n",
        "quadrados = [i**2 for i in range(10)]\n",
        "print(quadrados)"
      ],
      "execution_count": null,
      "outputs": [
        {
          "output_type": "stream",
          "text": [
            "[0, 1, 4, 9, 16, 25, 36, 49, 64, 81]\n"
          ],
          "name": "stdout"
        }
      ]
    },
    {
      "cell_type": "markdown",
      "metadata": {
        "id": "0zg4i7HDvUlU"
      },
      "source": [
        "Filtrando os Números Negativos"
      ]
    },
    {
      "cell_type": "code",
      "metadata": {
        "id": "keTjk9mXtV1j"
      },
      "source": [
        "# MÉTODO 1\n",
        "lista_de_numeros = [10, -2, 25, -5, 99, 1]\n",
        "\n",
        "#alternativa 1\n",
        "lista_de_numeros_positivos = []\n",
        "for num in lista_de_numeros:\n",
        "  if num >= 0:\n",
        "    lista_de_numeros_positivos.append(num)\n",
        "print(lista_de_numeros_positivos)"
      ],
      "execution_count": null,
      "outputs": []
    },
    {
      "cell_type": "code",
      "metadata": {
        "id": "8hGIiiqItZWy"
      },
      "source": [
        "# MÉTODO 2\n",
        "\n",
        "# usando list comprehension\n",
        "# alternativa 2\n",
        "lista_de_numeros_positivos = [num for num in lista_de_numeros if num >= 0]\n",
        "print(lista_de_numeros_positivos)"
      ],
      "execution_count": null,
      "outputs": []
    },
    {
      "cell_type": "markdown",
      "metadata": {
        "id": "M_zCcXafxG5F"
      },
      "source": [
        " ***Lambda Functions*** "
      ]
    },
    {
      "cell_type": "code",
      "metadata": {
        "id": "FSgDhDHGxJuX",
        "outputId": "f780f6db-c252-4788-e9a6-b4c9c2ff0908",
        "colab": {
          "base_uri": "https://localhost:8080/"
        }
      },
      "source": [
        "lista_de_numeros = list(range(10))\n",
        "print(lista_de_numeros)"
      ],
      "execution_count": null,
      "outputs": [
        {
          "output_type": "stream",
          "text": [
            "[0, 1, 2, 3, 4, 5, 6, 7, 8, 9]\n"
          ],
          "name": "stdout"
        }
      ]
    },
    {
      "cell_type": "code",
      "metadata": {
        "id": "-rUxGfn5xRoV"
      },
      "source": [
        "def power_of_2(x):\n",
        "  return x ** 2"
      ],
      "execution_count": null,
      "outputs": []
    },
    {
      "cell_type": "code",
      "metadata": {
        "colab": {
          "base_uri": "https://localhost:8080/"
        },
        "id": "atRTRl8YxfGC",
        "outputId": "cdbc8bc0-2512-49f7-97ad-60a7fef1be00"
      },
      "source": [
        "quadrados = list(map(power_of_2, lista_de_numeros))\n",
        "print(quadrados)"
      ],
      "execution_count": null,
      "outputs": [
        {
          "output_type": "stream",
          "text": [
            "[0, 1, 4, 9, 16, 25, 36, 49, 64, 81]\n"
          ],
          "name": "stdout"
        }
      ]
    },
    {
      "cell_type": "code",
      "metadata": {
        "colab": {
          "base_uri": "https://localhost:8080/"
        },
        "id": "Fp_XjwvjyCwN",
        "outputId": "c694a949-5800-4bd1-8c4b-311fbc4a79ee"
      },
      "source": [
        "# USANDO LAMBDA FUNCTIONS\n",
        "quadrados_2 = list(map(lambda x: x**2, lista_de_numeros))\n",
        "print(quadrados_2)"
      ],
      "execution_count": null,
      "outputs": [
        {
          "output_type": "stream",
          "text": [
            "[0, 1, 4, 9, 16, 25, 36, 49, 64, 81]\n"
          ],
          "name": "stdout"
        }
      ]
    },
    {
      "cell_type": "markdown",
      "metadata": {
        "id": "S59yVW150O-1"
      },
      "source": [
        "**STRINGS**"
      ]
    },
    {
      "cell_type": "code",
      "metadata": {
        "id": "GmgdBPpiAiRn"
      },
      "source": [
        "#CHECAR A EXTENSÃO DO ARQUIVO\n",
        "arquivo = 'imagem.PNG'\n",
        "if arquivo.lower().endswith('.png'): #colocando o .lower() eu tiro a possibilidade do arquivo ser salvo com .PNG e não passar na estrutura \"if\"\n",
        "  print('É uma imagem png')\n",
        "else:\n",
        "  print('O arquivo não é png')"
      ],
      "execution_count": null,
      "outputs": []
    },
    {
      "cell_type": "code",
      "metadata": {
        "id": "CpKW1lEkBfaH"
      },
      "source": [
        "# USANDO SPLIT\n",
        "diretorio = '~/documentos/arquivos'\n",
        "subdiretorios = diretorio.split('/')\n",
        "print(subdiretorios)"
      ],
      "execution_count": null,
      "outputs": []
    },
    {
      "cell_type": "code",
      "metadata": {
        "id": "Cb_MQBRxCYCy"
      },
      "source": [
        "#USANDO JOIN\n",
        "diretorio_completo = '/'.join(subdiretorios)\n",
        "print(diretorio)"
      ],
      "execution_count": null,
      "outputs": []
    },
    {
      "cell_type": "code",
      "metadata": {
        "id": "1MFgns6cC3M2"
      },
      "source": [
        "# gambiarra para alterar um único caracter específico de um dado index de uma string\n",
        "nome = 'Luke Skywalker'\n",
        "print(nome)\n",
        "nome_como_lista = list(nome)\n",
        "nome_como_lista\n",
        "str(nome_como_lista)\n",
        "''.join(nome_como_lista)"
      ],
      "execution_count": null,
      "outputs": []
    },
    {
      "cell_type": "code",
      "metadata": {
        "id": "94sO_AVxDp7_"
      },
      "source": [
        "# REPLACE - substituir partes de uma string por outra\n",
        "txt = 'eu gosto de bananas'\n",
        "txt.replace('bananas', 'maçãs')"
      ],
      "execution_count": null,
      "outputs": []
    },
    {
      "cell_type": "markdown",
      "metadata": {
        "id": "BgssYSOaFDmT"
      },
      "source": [
        "**TUPLAS**"
      ]
    },
    {
      "cell_type": "code",
      "metadata": {
        "id": "XUbnByOQFF9t",
        "colab": {
          "base_uri": "https://localhost:8080/"
        },
        "outputId": "f8d64361-815a-4ca2-a3b5-b971cbf6aac6"
      },
      "source": [
        "tupla_1 = (1, 2, 3)\n",
        "type(tupla_1)\n",
        "print(tupla_1)"
      ],
      "execution_count": null,
      "outputs": [
        {
          "output_type": "stream",
          "text": [
            "(1, 2, 3)\n"
          ],
          "name": "stdout"
        }
      ]
    },
    {
      "cell_type": "code",
      "metadata": {
        "id": "IQNbnVEpFXNX"
      },
      "source": [
        "#ATRIBUIÇÕES MÚLTIPLAS\n",
        "x, y, z = 1, 2, 3\n",
        "print(x)\n",
        "print(y)\n",
        "print(z)"
      ],
      "execution_count": null,
      "outputs": []
    },
    {
      "cell_type": "code",
      "metadata": {
        "id": "HoK6uZLLFvxS"
      },
      "source": [
        "a, b, c = tupla_1 # desempacota os elementos da 'tupla_1' nas variáveis"
      ],
      "execution_count": null,
      "outputs": []
    },
    {
      "cell_type": "code",
      "metadata": {
        "id": "0vg521JNHo6D"
      },
      "source": [
        "# COMPACTANDO LISTAS\n",
        "carros = ['onix', 'gol', 'uno']\n",
        "precos = [50000, 30000, 20000]\n",
        "carros_com_precos_zip = zip(carros, precos)\n",
        "carros_com_precos = list(carros_com_precos_zip)\n",
        "print(carros_com_precos)"
      ],
      "execution_count": null,
      "outputs": []
    },
    {
      "cell_type": "code",
      "metadata": {
        "id": "YtOIM2tQIZSJ"
      },
      "source": [
        "for x in carros_com_precos:\n",
        "  print(x)"
      ],
      "execution_count": null,
      "outputs": []
    },
    {
      "cell_type": "code",
      "metadata": {
        "id": "Jfjd98fxIhdM"
      },
      "source": [
        "for nome, preco in carros_com_precos:\n",
        "  print(nome)\n",
        "  print(preco)"
      ],
      "execution_count": null,
      "outputs": []
    },
    {
      "cell_type": "code",
      "metadata": {
        "id": "bEpWvXw0Ilkp"
      },
      "source": [
        "carros_com_precos_zip = zip(carros, precos)\n",
        "for nome, preco in zip(carros,precos):\n",
        "  print(nome)\n",
        "  print(preco)"
      ],
      "execution_count": null,
      "outputs": []
    },
    {
      "cell_type": "markdown",
      "metadata": {
        "id": "I-9vAKOPS5vN"
      },
      "source": [
        "**DICIONÁRIOS**"
      ]
    },
    {
      "cell_type": "code",
      "metadata": {
        "id": "IJ338yMATBTW"
      },
      "source": [
        "luke = {'nome': 'Luke', 'idade':16, 'peso':60}\n"
      ],
      "execution_count": null,
      "outputs": []
    },
    {
      "cell_type": "code",
      "metadata": {
        "id": "DtCZleGPVDc9"
      },
      "source": [
        "#ACESSANDO OS VALORES\n",
        "luke['nome'] # mudar apenas 'idade' e 'peso'"
      ],
      "execution_count": null,
      "outputs": []
    },
    {
      "cell_type": "code",
      "metadata": {
        "id": "Uybkq0L1VH5M"
      },
      "source": [
        "#ALTERANDO OS VALORES\n",
        "luke['peso'] = 70\n",
        "print(luke)"
      ],
      "execution_count": null,
      "outputs": []
    },
    {
      "cell_type": "code",
      "metadata": {
        "id": "NSq69PcxVWAt"
      },
      "source": [
        "#ADICIONANDO UM NOVO ELEMENTO\n",
        "luke['classe'] = 'jedi'\n",
        "luke['notas'] = [10.0, 5.5, 8.0]\n",
        "print(luke)"
      ],
      "execution_count": null,
      "outputs": []
    },
    {
      "cell_type": "code",
      "metadata": {
        "id": "1_1JMmhBVeor"
      },
      "source": [
        "#COPIAR UM DICIONÁRIO\n",
        "luke_copia = dict(luke) #retorna uma cópia\n",
        "luke.pop('notas',None) #remove a chave 1 do dicionário\n",
        "print(luke)\n",
        "print(luke_copia)"
      ],
      "execution_count": null,
      "outputs": []
    },
    {
      "cell_type": "code",
      "metadata": {
        "id": "szxF6vEaXMo2"
      },
      "source": [
        "for chave in luke:\n",
        "  print(f'luke[\\'{chave}\\'] = {luke[chave]}')"
      ],
      "execution_count": null,
      "outputs": []
    },
    {
      "cell_type": "code",
      "metadata": {
        "colab": {
          "base_uri": "https://localhost:8080/"
        },
        "id": "WJdhkpl-Yv1Z",
        "outputId": "fc641d27-b079-493b-c346-73a0978c54da"
      },
      "source": [
        "luke.keys() # retorna uma lista com todas as chaves do dicionario\n",
        "luke.values() # retorna uma lista com todos os valores do dicionario"
      ],
      "execution_count": null,
      "outputs": [
        {
          "output_type": "execute_result",
          "data": {
            "text/plain": [
              "dict_values(['Luke', 16, 70, 'jedi'])"
            ]
          },
          "metadata": {
            "tags": []
          },
          "execution_count": 221
        }
      ]
    },
    {
      "cell_type": "code",
      "metadata": {
        "colab": {
          "base_uri": "https://localhost:8080/"
        },
        "id": "sz7g9ZuhZZW6",
        "outputId": "2fcb9e0c-f6b4-4296-b50f-ba101c8921c0"
      },
      "source": [
        "luke.items() #retorna uma lista de tuplas, onde cada tupla representa um par chave e valor do dicionário\n"
      ],
      "execution_count": null,
      "outputs": [
        {
          "output_type": "execute_result",
          "data": {
            "text/plain": [
              "dict_items([('nome', 'Luke'), ('idade', 16), ('peso', 70), ('classe', 'jedi')])"
            ]
          },
          "metadata": {
            "tags": []
          },
          "execution_count": 222
        }
      ]
    },
    {
      "cell_type": "code",
      "metadata": {
        "id": "k8FNoTU9Zi7C"
      },
      "source": [
        "for chave, valor in luke.items():\n",
        "  print(f'luke[\\'{chave}\\'] = {valor}')"
      ],
      "execution_count": null,
      "outputs": []
    },
    {
      "cell_type": "markdown",
      "metadata": {
        "id": "4HLvEIcVeD2y"
      },
      "source": [
        "**BIBLIOTECAS EXTERNAS**"
      ]
    },
    {
      "cell_type": "code",
      "metadata": {
        "id": "VVo_FcWqiOHe"
      },
      "source": [
        "import math"
      ],
      "execution_count": null,
      "outputs": []
    },
    {
      "cell_type": "code",
      "metadata": {
        "id": "kCdHTMqQiSR4"
      },
      "source": [
        "math.pow(2,10)"
      ],
      "execution_count": null,
      "outputs": []
    },
    {
      "cell_type": "code",
      "metadata": {
        "id": "IsOVneiCiUTh"
      },
      "source": [
        "#ATRIBUINDO UM NOME AO MODULO\n",
        "import random as ran"
      ],
      "execution_count": null,
      "outputs": []
    },
    {
      "cell_type": "code",
      "metadata": {
        "id": "f3d-0b_Kiqi9"
      },
      "source": [
        "ran.randint(0, 10)"
      ],
      "execution_count": null,
      "outputs": []
    },
    {
      "cell_type": "code",
      "metadata": {
        "id": "f1iI-GcWiuDU"
      },
      "source": [
        "import numpy as np"
      ],
      "execution_count": null,
      "outputs": []
    },
    {
      "cell_type": "code",
      "metadata": {
        "id": "U4zGH2T0i3HV"
      },
      "source": [
        "#importando apenas uma função de um módulo\n",
        "from time import sleep"
      ],
      "execution_count": null,
      "outputs": []
    },
    {
      "cell_type": "code",
      "metadata": {
        "id": "yKaz-6bEjMSf"
      },
      "source": [
        "#IMPORTANDO TUDO DA BIBLIOTECA - USE O ASTERISCO\n",
        "#IMPORTE SOMENTE O QUE FOR USAR\n",
        "from math import *\n",
        "print(log2(16))\n",
        "print(log10(100))"
      ],
      "execution_count": null,
      "outputs": []
    },
    {
      "cell_type": "code",
      "metadata": {
        "colab": {
          "base_uri": "https://localhost:8080/"
        },
        "id": "-lYWhIQmj_SX",
        "outputId": "18dc328f-1caa-4e7f-d082-03fc968687ed"
      },
      "source": [
        "#ALGUNS MÓDULOS POSSUEM SUBMÓDULOS\n",
        "import numpy as np\n",
        "from numpy import random\n",
        "random.randint(0,10)"
      ],
      "execution_count": null,
      "outputs": [
        {
          "output_type": "execute_result",
          "data": {
            "text/plain": [
              "5"
            ]
          },
          "metadata": {
            "tags": []
          },
          "execution_count": 252
        }
      ]
    },
    {
      "cell_type": "markdown",
      "source": [
        "**Trabalhando com erros**"
      ],
      "metadata": {
        "id": "sFL8hKbqot6r"
      }
    },
    {
      "cell_type": "code",
      "metadata": {
        "id": "1TqrPiUKlH97",
        "colab": {
          "base_uri": "https://localhost:8080/"
        },
        "outputId": "dba7ec39-6f04-44a2-cd1b-61e298ab5dcd"
      },
      "source": [
        "# importo o pacote sys\n",
        "import sys\n",
        "\n",
        "# atribui valores as variáveis\n",
        "a = 1\n",
        "b = 5\n",
        "\n",
        "# agora eu vou tentar executar o código com tratativa de erro\n",
        "\n",
        "\n",
        "try: # estou indicando o que deve ser tentado\n",
        "  c = a + b\n",
        "except: # estou passando o que deve ser feito em caso de erro\n",
        "  print(f'Ocorreu o erro {sys.exc_info()[0]}') # o sys.exc_info()[0] retorna o nome do erro que deu\n",
        "else: \n",
        "  print(f'Operação realizada com sucesso e o resultado é {c}') # se a operação for bem sucedida eu retorno isso"
      ],
      "execution_count": 18,
      "outputs": [
        {
          "output_type": "stream",
          "name": "stdout",
          "text": [
            "Operação realizada com sucesso e o resultado é 6\n"
          ]
        }
      ]
    },
    {
      "cell_type": "code",
      "source": [
        ""
      ],
      "metadata": {
        "id": "8V24TAbipCef"
      },
      "execution_count": null,
      "outputs": []
    }
  ]
}