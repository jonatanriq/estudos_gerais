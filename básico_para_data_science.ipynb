{
  "nbformat": 4,
  "nbformat_minor": 0,
  "metadata": {
    "colab": {
      "name": "básico_para_data_science.ipynb",
      "provenance": [],
      "collapsed_sections": [],
      "authorship_tag": "ABX9TyO8NqaoG0B155GdOeQZiJfn",
      "include_colab_link": true
    },
    "kernelspec": {
      "name": "python3",
      "display_name": "Python 3"
    },
    "language_info": {
      "name": "python"
    }
  },
  "cells": [
    {
      "cell_type": "markdown",
      "metadata": {
        "id": "view-in-github",
        "colab_type": "text"
      },
      "source": [
        "<a href=\"https://colab.research.google.com/github/jonatanriq/estudos_gerais/blob/main/b%C3%A1sico_para_data_science.ipynb\" target=\"_parent\"><img src=\"https://colab.research.google.com/assets/colab-badge.svg\" alt=\"Open In Colab\"/></a>"
      ]
    },
    {
      "cell_type": "code",
      "metadata": {
        "id": "Re08B_kwGI9k"
      },
      "source": [
        "planetas = ['mercurio', 'venus', 'terra', 'marte', 'jupiter', 'saturno', 'urano', 'netuno']\n"
      ],
      "execution_count": 58,
      "outputs": []
    },
    {
      "cell_type": "markdown",
      "metadata": {
        "id": "Xp3wi68yw5th"
      },
      "source": [
        "**Retornando os Valores Dentro de um Intervalo Definido**\n",
        "\n",
        "\n",
        "\n",
        "\n"
      ]
    },
    {
      "cell_type": "code",
      "metadata": {
        "colab": {
          "base_uri": "https://localhost:8080/"
        },
        "id": "1pJbv2NvdXMX",
        "outputId": "566a8859-0582-4737-c0c1-0202fcfa6001"
      },
      "source": [
        "for planeta in planetas[1:4]:\n",
        "  print(f'planeta = {planeta}')"
      ],
      "execution_count": 59,
      "outputs": [
        {
          "output_type": "stream",
          "name": "stdout",
          "text": [
            "planeta = venus\n",
            "planeta = terra\n",
            "planeta = marte\n"
          ]
        }
      ]
    },
    {
      "cell_type": "markdown",
      "metadata": {
        "id": "moD7amjmwzAW"
      },
      "source": [
        "**Enumerando os Elementos**"
      ]
    },
    {
      "cell_type": "code",
      "metadata": {
        "id": "e4-Hzv7Ld53L",
        "colab": {
          "base_uri": "https://localhost:8080/"
        },
        "outputId": "e7ec067a-03cf-4eaf-aa87-d108265eabc2"
      },
      "source": [
        "\n",
        "for i, plan in enumerate(planetas):\n",
        "  print(f'planeta[{i}] = {plan}')"
      ],
      "execution_count": 60,
      "outputs": [
        {
          "output_type": "stream",
          "name": "stdout",
          "text": [
            "planeta[0] = mercurio\n",
            "planeta[1] = venus\n",
            "planeta[2] = terra\n",
            "planeta[3] = marte\n",
            "planeta[4] = jupiter\n",
            "planeta[5] = saturno\n",
            "planeta[6] = urano\n",
            "planeta[7] = netuno\n"
          ]
        }
      ]
    },
    {
      "cell_type": "code",
      "metadata": {
        "id": "aedMegJUgkUm",
        "colab": {
          "base_uri": "https://localhost:8080/"
        },
        "outputId": "e4dd22c0-deb0-4c41-b5d5-56d61af3e3de"
      },
      "source": [
        "numeros = [10, 5, 20, 2]\n",
        "print('o Menor número é {}'.format(min(numeros)))\n",
        "print('o maior número é {}'.format(max(numeros)))\n",
        "print('a soma dos número é {}'.format(sum(numeros)))"
      ],
      "execution_count": 61,
      "outputs": [
        {
          "output_type": "stream",
          "name": "stdout",
          "text": [
            "o Menor número é 2\n",
            "o maior número é 20\n",
            "a soma dos número é 37\n"
          ]
        }
      ]
    },
    {
      "cell_type": "markdown",
      "metadata": {
        "id": "m58qVqOCvnZR"
      },
      "source": [
        "**TRABALHANDO COM LISTAS**"
      ]
    },
    {
      "cell_type": "code",
      "metadata": {
        "id": "NVogDl7Mh7B0",
        "colab": {
          "base_uri": "https://localhost:8080/"
        },
        "outputId": "fbeeddd8-90dd-40d6-dd47-c88fe9fb51cf"
      },
      "source": [
        "# ADICIONANDO A ÚLTIMA POSIÇÃO NA LISTA\n",
        "planetas.append('plutão')\n",
        "print(planetas)"
      ],
      "execution_count": 62,
      "outputs": [
        {
          "output_type": "stream",
          "name": "stdout",
          "text": [
            "['mercurio', 'venus', 'terra', 'marte', 'jupiter', 'saturno', 'urano', 'netuno', 'plutão']\n"
          ]
        }
      ]
    },
    {
      "cell_type": "code",
      "metadata": {
        "id": "Af4hIYkziAsY",
        "colab": {
          "base_uri": "https://localhost:8080/"
        },
        "outputId": "ea9b771b-303c-4cc0-b5b9-634c210d5104"
      },
      "source": [
        "# REMOVENDO O ÚLTIMO TERMO\n",
        "ultimo_planeta = planetas.pop()\n",
        "print(planetas)"
      ],
      "execution_count": 63,
      "outputs": [
        {
          "output_type": "stream",
          "name": "stdout",
          "text": [
            "['mercurio', 'venus', 'terra', 'marte', 'jupiter', 'saturno', 'urano', 'netuno']\n"
          ]
        }
      ]
    },
    {
      "cell_type": "code",
      "metadata": {
        "id": "FvjbVK4oiokI",
        "colab": {
          "base_uri": "https://localhost:8080/"
        },
        "outputId": "1928c4ae-d38b-46a2-d4e7-a55472772280"
      },
      "source": [
        "planetas.append('saturno')\n",
        "planetas.append('urano')\n",
        "planetas.append('netuno')\n",
        "print(planetas)"
      ],
      "execution_count": 64,
      "outputs": [
        {
          "output_type": "stream",
          "name": "stdout",
          "text": [
            "['mercurio', 'venus', 'terra', 'marte', 'jupiter', 'saturno', 'urano', 'netuno', 'saturno', 'urano', 'netuno']\n"
          ]
        }
      ]
    },
    {
      "cell_type": "code",
      "metadata": {
        "id": "pQUrWpopi5C5",
        "colab": {
          "base_uri": "https://localhost:8080/"
        },
        "outputId": "31d1d1a0-e359-4a4d-fdde-b83f8278f1d4"
      },
      "source": [
        "#REVERTENDO A ORDEM ==> SEM PERDER A LISTA ORIGINAL <==\n",
        "planetas_revertidos = list(planetas)\n",
        "planetas_revertidos.reverse()\n",
        "print(planetas_revertidos)"
      ],
      "execution_count": 65,
      "outputs": [
        {
          "output_type": "stream",
          "name": "stdout",
          "text": [
            "['netuno', 'urano', 'saturno', 'netuno', 'urano', 'saturno', 'jupiter', 'marte', 'terra', 'venus', 'mercurio']\n"
          ]
        }
      ]
    },
    {
      "cell_type": "code",
      "metadata": {
        "id": "SZrXERwHj2tu",
        "colab": {
          "base_uri": "https://localhost:8080/"
        },
        "outputId": "e119fb03-704b-4c7e-821b-f449376bedee"
      },
      "source": [
        "# ORDENANDO OS NÚMEROS\n",
        "numeros_ordenados = sorted(numeros)\n",
        "print(numeros_ordenados)\n",
        "print(numeros)"
      ],
      "execution_count": 66,
      "outputs": [
        {
          "output_type": "stream",
          "name": "stdout",
          "text": [
            "[2, 5, 10, 20]\n",
            "[10, 5, 20, 2]\n"
          ]
        }
      ]
    },
    {
      "cell_type": "code",
      "metadata": {
        "id": "zndw-AcFj_yr",
        "colab": {
          "base_uri": "https://localhost:8080/"
        },
        "outputId": "c802810a-6236-4cb5-90c6-e2470d57150e"
      },
      "source": [
        "# ORDENANDO POR ORDEM ALFABETICA\n",
        "planetas_ordenados = sorted(planetas)\n",
        "print(planetas)\n",
        "print(planetas_ordenados)"
      ],
      "execution_count": 67,
      "outputs": [
        {
          "output_type": "stream",
          "name": "stdout",
          "text": [
            "['mercurio', 'venus', 'terra', 'marte', 'jupiter', 'saturno', 'urano', 'netuno', 'saturno', 'urano', 'netuno']\n",
            "['jupiter', 'marte', 'mercurio', 'netuno', 'netuno', 'saturno', 'saturno', 'terra', 'urano', 'urano', 'venus']\n"
          ]
        }
      ]
    },
    {
      "cell_type": "code",
      "metadata": {
        "id": "8AGkN_Znko1w",
        "colab": {
          "base_uri": "https://localhost:8080/"
        },
        "outputId": "f9fe605d-ff40-4574-ec35-443064fa5017"
      },
      "source": [
        "#LISTANDO EM ORDEM REVERSA\n",
        "numeros_ord_reversa = sorted(numeros)\n",
        "numeros_ord_reversa.reverse()\n",
        "print(numeros_ord_reversa)"
      ],
      "execution_count": 68,
      "outputs": [
        {
          "output_type": "stream",
          "name": "stdout",
          "text": [
            "[20, 10, 5, 2]\n"
          ]
        }
      ]
    },
    {
      "cell_type": "code",
      "metadata": {
        "id": "Zubatm0nk7uu",
        "colab": {
          "base_uri": "https://localhost:8080/"
        },
        "outputId": "2eee684e-09ec-4b89-befa-5008801c6f41"
      },
      "source": [
        "#BUSCANDO ELEMENTOS NUMA LISTA\n",
        "print(planetas)\n",
        "# qual o índice do elemento 'marte'?\n",
        "planetas.index('marte')\n",
        "\n",
        "# só checar se tem o elemento na lista\n",
        "'marte' in planetas\n",
        "\n",
        "# checar se não contém um elemento na lista\n",
        "'brasil' not in planetas"
      ],
      "execution_count": 69,
      "outputs": [
        {
          "output_type": "stream",
          "name": "stdout",
          "text": [
            "['mercurio', 'venus', 'terra', 'marte', 'jupiter', 'saturno', 'urano', 'netuno', 'saturno', 'urano', 'netuno']\n"
          ]
        },
        {
          "output_type": "execute_result",
          "data": {
            "text/plain": [
              "True"
            ]
          },
          "metadata": {},
          "execution_count": 69
        }
      ]
    },
    {
      "cell_type": "markdown",
      "metadata": {
        "id": "U6pVd6bCwLlh"
      },
      "source": [
        "**Concatenando Listas (2 MÉTODOS)**"
      ]
    },
    {
      "cell_type": "code",
      "metadata": {
        "id": "bHAi34pJwX13"
      },
      "source": [
        "cidades_centro = ['sao paulo', 'santo andre', 'sao caetano', 'sao bernardo']\n",
        "cidades_interior = ['pompeia', 'campinas', 'hortolandia']"
      ],
      "execution_count": 70,
      "outputs": []
    },
    {
      "cell_type": "code",
      "metadata": {
        "id": "M8FHnmZLmEQF"
      },
      "source": [
        "#CONCATENANDO LISTAS - MÉTODO 1\n",
        "\n",
        "cidades_estado = cidades_centro + cidades_interior "
      ],
      "execution_count": 71,
      "outputs": []
    },
    {
      "cell_type": "code",
      "metadata": {
        "id": "26n9Gco4n-QB",
        "colab": {
          "base_uri": "https://localhost:8080/"
        },
        "outputId": "36fc79ae-5f99-4ed4-fa87-e7d7fd9b7bcf"
      },
      "source": [
        "#CONCATENANDO LISTAS - MÉTODO 2\n",
        "\n",
        "cidades_estado = list(cidades_centro)\n",
        "cidades_estado.extend(cidades_interior)\n",
        "print(cidades_estado)"
      ],
      "execution_count": 72,
      "outputs": [
        {
          "output_type": "stream",
          "name": "stdout",
          "text": [
            "['sao paulo', 'santo andre', 'sao caetano', 'sao bernardo', 'pompeia', 'campinas', 'hortolandia']\n"
          ]
        }
      ]
    },
    {
      "cell_type": "markdown",
      "metadata": {
        "id": "OM_rgPxivPiP"
      },
      "source": [
        "**LIST COMPREHENSION**"
      ]
    },
    {
      "cell_type": "code",
      "metadata": {
        "colab": {
          "base_uri": "https://localhost:8080/"
        },
        "id": "GU4qQ-cwog8D",
        "outputId": "81cebcf0-33c2-4e38-b2ac-3cf71b74a99a"
      },
      "source": [
        "#LIST COMPREHENSIONS\n",
        "\n",
        "# método 1\n",
        "quadrados = []\n",
        " \n",
        "for i in range(10):\n",
        "  quadrados.append(i ** 2)\n",
        " \n",
        "print(quadrados)"
      ],
      "execution_count": 73,
      "outputs": [
        {
          "output_type": "stream",
          "name": "stdout",
          "text": [
            "[0, 1, 4, 9, 16, 25, 36, 49, 64, 81]\n"
          ]
        }
      ]
    },
    {
      "cell_type": "code",
      "metadata": {
        "colab": {
          "base_uri": "https://localhost:8080/"
        },
        "id": "u6oxaUoxsAUk",
        "outputId": "eb71cc77-8525-4134-96a5-cb8e7daad33f"
      },
      "source": [
        "#LIST COMPREHENSIONS\n",
        "\n",
        "# método 2\n",
        "\n",
        "quadrados = list(range(10))\n",
        "print(f'ANTES {quadrados}')\n",
        "\n",
        "for i, num in enumerate(quadrados):\n",
        "  quadrados[i] = num ** 2 ## não entendo muito bem o que ele faz aqui\n",
        "print(f'DEPOIS {quadrados}')"
      ],
      "execution_count": 74,
      "outputs": [
        {
          "output_type": "stream",
          "name": "stdout",
          "text": [
            "ANTES [0, 1, 2, 3, 4, 5, 6, 7, 8, 9]\n",
            "DEPOIS [0, 1, 4, 9, 16, 25, 36, 49, 64, 81]\n"
          ]
        }
      ]
    },
    {
      "cell_type": "code",
      "metadata": {
        "colab": {
          "base_uri": "https://localhost:8080/"
        },
        "id": "KmiM_e9cszpZ",
        "outputId": "24b43b26-05e9-4928-f008-d31236a3fe69"
      },
      "source": [
        "# USANDO LIST COMPREHENSIONS\n",
        "\n",
        "quadrados = [i**2 for i in range(10)]\n",
        "print(quadrados)"
      ],
      "execution_count": 75,
      "outputs": [
        {
          "output_type": "stream",
          "name": "stdout",
          "text": [
            "[0, 1, 4, 9, 16, 25, 36, 49, 64, 81]\n"
          ]
        }
      ]
    },
    {
      "cell_type": "markdown",
      "metadata": {
        "id": "0zg4i7HDvUlU"
      },
      "source": [
        "Filtrando os Números Negativos"
      ]
    },
    {
      "cell_type": "code",
      "metadata": {
        "id": "keTjk9mXtV1j",
        "colab": {
          "base_uri": "https://localhost:8080/"
        },
        "outputId": "9a5014ab-9cb7-4db1-9ce3-01fc533ee194"
      },
      "source": [
        "# MÉTODO 1\n",
        "lista_de_numeros = [10, -2, 25, -5, 99, 1]\n",
        "\n",
        "#alternativa 1\n",
        "lista_de_numeros_positivos = []\n",
        "for num in lista_de_numeros:\n",
        "  if num >= 0:\n",
        "    lista_de_numeros_positivos.append(num)\n",
        "print(lista_de_numeros_positivos)"
      ],
      "execution_count": 76,
      "outputs": [
        {
          "output_type": "stream",
          "name": "stdout",
          "text": [
            "[10, 25, 99, 1]\n"
          ]
        }
      ]
    },
    {
      "cell_type": "code",
      "metadata": {
        "id": "8hGIiiqItZWy",
        "colab": {
          "base_uri": "https://localhost:8080/"
        },
        "outputId": "16452eea-698e-4512-df42-f720cacd1db3"
      },
      "source": [
        "# MÉTODO 2\n",
        "\n",
        "# usando list comprehension\n",
        "# alternativa 2\n",
        "lista_de_numeros_positivos = [num for num in lista_de_numeros if num >= 0]\n",
        "print(lista_de_numeros_positivos)"
      ],
      "execution_count": 77,
      "outputs": [
        {
          "output_type": "stream",
          "name": "stdout",
          "text": [
            "[10, 25, 99, 1]\n"
          ]
        }
      ]
    },
    {
      "cell_type": "markdown",
      "metadata": {
        "id": "M_zCcXafxG5F"
      },
      "source": [
        " ***Lambda Functions*** "
      ]
    },
    {
      "cell_type": "code",
      "metadata": {
        "id": "FSgDhDHGxJuX",
        "outputId": "e6dfbb3a-e22a-4446-c6a8-c6792bf086f4",
        "colab": {
          "base_uri": "https://localhost:8080/"
        }
      },
      "source": [
        "lista_de_numeros = list(range(10))\n",
        "print(lista_de_numeros)"
      ],
      "execution_count": 78,
      "outputs": [
        {
          "output_type": "stream",
          "name": "stdout",
          "text": [
            "[0, 1, 2, 3, 4, 5, 6, 7, 8, 9]\n"
          ]
        }
      ]
    },
    {
      "cell_type": "code",
      "metadata": {
        "id": "-rUxGfn5xRoV"
      },
      "source": [
        "def power_of_2(x):\n",
        "  return x ** 2"
      ],
      "execution_count": 79,
      "outputs": []
    },
    {
      "cell_type": "code",
      "metadata": {
        "colab": {
          "base_uri": "https://localhost:8080/"
        },
        "id": "atRTRl8YxfGC",
        "outputId": "45a41031-1fc8-43b1-c7f9-f0ddfb24307b"
      },
      "source": [
        "quadrados = list(map(power_of_2, lista_de_numeros))\n",
        "print(quadrados)"
      ],
      "execution_count": 80,
      "outputs": [
        {
          "output_type": "stream",
          "name": "stdout",
          "text": [
            "[0, 1, 4, 9, 16, 25, 36, 49, 64, 81]\n"
          ]
        }
      ]
    },
    {
      "cell_type": "code",
      "metadata": {
        "colab": {
          "base_uri": "https://localhost:8080/"
        },
        "id": "Fp_XjwvjyCwN",
        "outputId": "cf1314f7-e98f-4ad8-e255-987c3f39c139"
      },
      "source": [
        "# USANDO LAMBDA FUNCTIONS\n",
        "quadrados_2 = list(map(lambda x: x**2, lista_de_numeros))\n",
        "print(quadrados_2)"
      ],
      "execution_count": 81,
      "outputs": [
        {
          "output_type": "stream",
          "name": "stdout",
          "text": [
            "[0, 1, 4, 9, 16, 25, 36, 49, 64, 81]\n"
          ]
        }
      ]
    },
    {
      "cell_type": "markdown",
      "metadata": {
        "id": "S59yVW150O-1"
      },
      "source": [
        "**STRINGS**"
      ]
    },
    {
      "cell_type": "code",
      "metadata": {
        "id": "GmgdBPpiAiRn",
        "colab": {
          "base_uri": "https://localhost:8080/"
        },
        "outputId": "91f6cbb6-c2e6-4b86-ae84-2626296a683b"
      },
      "source": [
        "#CHECAR A EXTENSÃO DO ARQUIVO\n",
        "arquivo = 'imagem.PNG'\n",
        "if arquivo.lower().endswith('.png'): #colocando o .lower() eu tiro a possibilidade do arquivo ser salvo com .PNG e não passar na estrutura \"if\"\n",
        "  print('É uma imagem png')\n",
        "else:\n",
        "  print('O arquivo não é png')"
      ],
      "execution_count": 82,
      "outputs": [
        {
          "output_type": "stream",
          "name": "stdout",
          "text": [
            "É uma imagem png\n"
          ]
        }
      ]
    },
    {
      "cell_type": "code",
      "metadata": {
        "id": "CpKW1lEkBfaH",
        "colab": {
          "base_uri": "https://localhost:8080/"
        },
        "outputId": "aed711c2-283b-436e-c0e3-3b7b61943c6d"
      },
      "source": [
        "# USANDO SPLIT\n",
        "diretorio = '~/documentos/arquivos'\n",
        "subdiretorios = diretorio.split('/')\n",
        "print(subdiretorios)"
      ],
      "execution_count": 83,
      "outputs": [
        {
          "output_type": "stream",
          "name": "stdout",
          "text": [
            "['~', 'documentos', 'arquivos']\n"
          ]
        }
      ]
    },
    {
      "cell_type": "code",
      "metadata": {
        "id": "Cb_MQBRxCYCy",
        "colab": {
          "base_uri": "https://localhost:8080/"
        },
        "outputId": "a1df4e68-4c44-4ad6-a194-29655b181111"
      },
      "source": [
        "#USANDO JOIN\n",
        "diretorio_completo = '/'.join(subdiretorios)\n",
        "print(diretorio)"
      ],
      "execution_count": 84,
      "outputs": [
        {
          "output_type": "stream",
          "name": "stdout",
          "text": [
            "~/documentos/arquivos\n"
          ]
        }
      ]
    },
    {
      "cell_type": "code",
      "metadata": {
        "id": "1MFgns6cC3M2",
        "colab": {
          "base_uri": "https://localhost:8080/",
          "height": 54
        },
        "outputId": "0d19ec76-8f2d-4828-f4e6-312bae350f48"
      },
      "source": [
        "# gambiarra para alterar um único caracter específico de um dado index de uma string\n",
        "nome = 'Luke Skywalker'\n",
        "print(nome)\n",
        "nome_como_lista = list(nome)\n",
        "nome_como_lista\n",
        "str(nome_como_lista)\n",
        "''.join(nome_como_lista)"
      ],
      "execution_count": 85,
      "outputs": [
        {
          "output_type": "stream",
          "name": "stdout",
          "text": [
            "Luke Skywalker\n"
          ]
        },
        {
          "output_type": "execute_result",
          "data": {
            "text/plain": [
              "'Luke Skywalker'"
            ],
            "application/vnd.google.colaboratory.intrinsic+json": {
              "type": "string"
            }
          },
          "metadata": {},
          "execution_count": 85
        }
      ]
    },
    {
      "cell_type": "code",
      "metadata": {
        "id": "94sO_AVxDp7_",
        "colab": {
          "base_uri": "https://localhost:8080/",
          "height": 37
        },
        "outputId": "52e437cf-1ba5-400c-c382-c12e42afd382"
      },
      "source": [
        "# REPLACE - substituir partes de uma string por outra\n",
        "txt = 'eu gosto de bananas'\n",
        "txt.replace('bananas', 'maçãs')"
      ],
      "execution_count": 86,
      "outputs": [
        {
          "output_type": "execute_result",
          "data": {
            "text/plain": [
              "'eu gosto de maçãs'"
            ],
            "application/vnd.google.colaboratory.intrinsic+json": {
              "type": "string"
            }
          },
          "metadata": {},
          "execution_count": 86
        }
      ]
    },
    {
      "cell_type": "markdown",
      "metadata": {
        "id": "BgssYSOaFDmT"
      },
      "source": [
        "**TUPLAS**"
      ]
    },
    {
      "cell_type": "code",
      "metadata": {
        "id": "XUbnByOQFF9t",
        "colab": {
          "base_uri": "https://localhost:8080/"
        },
        "outputId": "68fac2b6-d8b9-41e4-fae4-05836f78aff6"
      },
      "source": [
        "tupla_1 = (1, 2, 3)\n",
        "type(tupla_1)\n",
        "print(tupla_1)"
      ],
      "execution_count": 87,
      "outputs": [
        {
          "output_type": "stream",
          "name": "stdout",
          "text": [
            "(1, 2, 3)\n"
          ]
        }
      ]
    },
    {
      "cell_type": "code",
      "metadata": {
        "id": "IQNbnVEpFXNX",
        "colab": {
          "base_uri": "https://localhost:8080/"
        },
        "outputId": "c1f48b8f-91b2-4728-c78d-598d4e45d4e7"
      },
      "source": [
        "#ATRIBUIÇÕES MÚLTIPLAS\n",
        "x, y, z = 1, 2, 3\n",
        "print(x)\n",
        "print(y)\n",
        "print(z)"
      ],
      "execution_count": 88,
      "outputs": [
        {
          "output_type": "stream",
          "name": "stdout",
          "text": [
            "1\n",
            "2\n",
            "3\n"
          ]
        }
      ]
    },
    {
      "cell_type": "code",
      "metadata": {
        "id": "HoK6uZLLFvxS"
      },
      "source": [
        "a, b, c = tupla_1 # desempacota os elementos da 'tupla_1' nas variáveis"
      ],
      "execution_count": 89,
      "outputs": []
    },
    {
      "cell_type": "code",
      "metadata": {
        "id": "0vg521JNHo6D",
        "colab": {
          "base_uri": "https://localhost:8080/"
        },
        "outputId": "438f3b19-90fb-4411-9bca-6f34502ea8ed"
      },
      "source": [
        "# COMPACTANDO LISTAS\n",
        "carros = ['onix', 'gol', 'uno']\n",
        "precos = [50000, 30000, 20000]\n",
        "carros_com_precos_zip = zip(carros, precos)\n",
        "carros_com_precos = list(carros_com_precos_zip)\n",
        "print(carros_com_precos)"
      ],
      "execution_count": 90,
      "outputs": [
        {
          "output_type": "stream",
          "name": "stdout",
          "text": [
            "[('onix', 50000), ('gol', 30000), ('uno', 20000)]\n"
          ]
        }
      ]
    },
    {
      "cell_type": "code",
      "metadata": {
        "id": "YtOIM2tQIZSJ",
        "colab": {
          "base_uri": "https://localhost:8080/"
        },
        "outputId": "65e94ed1-ffe1-45ba-9c25-86f54ddc9131"
      },
      "source": [
        "for x in carros_com_precos:\n",
        "  print(x)"
      ],
      "execution_count": 91,
      "outputs": [
        {
          "output_type": "stream",
          "name": "stdout",
          "text": [
            "('onix', 50000)\n",
            "('gol', 30000)\n",
            "('uno', 20000)\n"
          ]
        }
      ]
    },
    {
      "cell_type": "code",
      "metadata": {
        "id": "Jfjd98fxIhdM",
        "colab": {
          "base_uri": "https://localhost:8080/"
        },
        "outputId": "d4ce26f7-3733-44d8-8045-234541ea7cce"
      },
      "source": [
        "for nome, preco in carros_com_precos:\n",
        "  print(nome)\n",
        "  print(preco)"
      ],
      "execution_count": 92,
      "outputs": [
        {
          "output_type": "stream",
          "name": "stdout",
          "text": [
            "onix\n",
            "50000\n",
            "gol\n",
            "30000\n",
            "uno\n",
            "20000\n"
          ]
        }
      ]
    },
    {
      "cell_type": "code",
      "metadata": {
        "id": "bEpWvXw0Ilkp",
        "colab": {
          "base_uri": "https://localhost:8080/"
        },
        "outputId": "3fbad4b0-872c-4b13-a3d8-fc8b53333dd3"
      },
      "source": [
        "carros_com_precos_zip = zip(carros, precos)\n",
        "for nome, preco in zip(carros,precos):\n",
        "  print(nome)\n",
        "  print(preco)"
      ],
      "execution_count": 93,
      "outputs": [
        {
          "output_type": "stream",
          "name": "stdout",
          "text": [
            "onix\n",
            "50000\n",
            "gol\n",
            "30000\n",
            "uno\n",
            "20000\n"
          ]
        }
      ]
    },
    {
      "cell_type": "markdown",
      "metadata": {
        "id": "I-9vAKOPS5vN"
      },
      "source": [
        "**DICIONÁRIOS**"
      ]
    },
    {
      "cell_type": "code",
      "metadata": {
        "id": "IJ338yMATBTW"
      },
      "source": [
        "luke = {'nome': 'Luke', 'idade':16, 'peso':60}\n"
      ],
      "execution_count": 94,
      "outputs": []
    },
    {
      "cell_type": "code",
      "metadata": {
        "id": "DtCZleGPVDc9",
        "colab": {
          "base_uri": "https://localhost:8080/",
          "height": 37
        },
        "outputId": "7d1a7f1c-45c8-476b-d8a6-73ac954ba5cb"
      },
      "source": [
        "#ACESSANDO OS VALORES\n",
        "luke['nome'] # mudar apenas 'idade' e 'peso'"
      ],
      "execution_count": 95,
      "outputs": [
        {
          "output_type": "execute_result",
          "data": {
            "text/plain": [
              "'Luke'"
            ],
            "application/vnd.google.colaboratory.intrinsic+json": {
              "type": "string"
            }
          },
          "metadata": {},
          "execution_count": 95
        }
      ]
    },
    {
      "cell_type": "code",
      "metadata": {
        "id": "Uybkq0L1VH5M",
        "colab": {
          "base_uri": "https://localhost:8080/"
        },
        "outputId": "88632f5e-7aa4-4eeb-eda4-35e8d1598f40"
      },
      "source": [
        "#ALTERANDO OS VALORES\n",
        "luke['peso'] = 70\n",
        "print(luke)"
      ],
      "execution_count": 96,
      "outputs": [
        {
          "output_type": "stream",
          "name": "stdout",
          "text": [
            "{'nome': 'Luke', 'idade': 16, 'peso': 70}\n"
          ]
        }
      ]
    },
    {
      "cell_type": "code",
      "metadata": {
        "id": "NSq69PcxVWAt",
        "colab": {
          "base_uri": "https://localhost:8080/"
        },
        "outputId": "70848bba-2884-40b6-ba86-ca1c555c8142"
      },
      "source": [
        "#ADICIONANDO UM NOVO ELEMENTO\n",
        "luke['classe'] = 'jedi'\n",
        "luke['notas'] = [10.0, 5.5, 8.0]\n",
        "print(luke)"
      ],
      "execution_count": 97,
      "outputs": [
        {
          "output_type": "stream",
          "name": "stdout",
          "text": [
            "{'nome': 'Luke', 'idade': 16, 'peso': 70, 'classe': 'jedi', 'notas': [10.0, 5.5, 8.0]}\n"
          ]
        }
      ]
    },
    {
      "cell_type": "code",
      "metadata": {
        "id": "1_1JMmhBVeor",
        "colab": {
          "base_uri": "https://localhost:8080/"
        },
        "outputId": "edbd1797-4522-461e-ff1e-7f843ee3001d"
      },
      "source": [
        "#COPIAR UM DICIONÁRIO\n",
        "luke_copia = dict(luke) #retorna uma cópia\n",
        "luke.pop('notas',None) #remove a chave 1 do dicionário\n",
        "print(luke)\n",
        "print(luke_copia)"
      ],
      "execution_count": 98,
      "outputs": [
        {
          "output_type": "stream",
          "name": "stdout",
          "text": [
            "{'nome': 'Luke', 'idade': 16, 'peso': 70, 'classe': 'jedi'}\n",
            "{'nome': 'Luke', 'idade': 16, 'peso': 70, 'classe': 'jedi', 'notas': [10.0, 5.5, 8.0]}\n"
          ]
        }
      ]
    },
    {
      "cell_type": "code",
      "metadata": {
        "id": "szxF6vEaXMo2",
        "colab": {
          "base_uri": "https://localhost:8080/"
        },
        "outputId": "8673157b-b81a-4e82-8d01-48f87bf5f634"
      },
      "source": [
        "for chave in luke:\n",
        "  print(f'luke[\\'{chave}\\'] = {luke[chave]}')"
      ],
      "execution_count": 99,
      "outputs": [
        {
          "output_type": "stream",
          "name": "stdout",
          "text": [
            "luke['nome'] = Luke\n",
            "luke['idade'] = 16\n",
            "luke['peso'] = 70\n",
            "luke['classe'] = jedi\n"
          ]
        }
      ]
    },
    {
      "cell_type": "code",
      "metadata": {
        "colab": {
          "base_uri": "https://localhost:8080/"
        },
        "id": "WJdhkpl-Yv1Z",
        "outputId": "2d853c0a-5448-4a09-c65f-144b393f95d9"
      },
      "source": [
        "luke.keys() # retorna uma lista com todas as chaves do dicionario\n",
        "luke.values() # retorna uma lista com todos os valores do dicionario"
      ],
      "execution_count": 100,
      "outputs": [
        {
          "output_type": "execute_result",
          "data": {
            "text/plain": [
              "dict_values(['Luke', 16, 70, 'jedi'])"
            ]
          },
          "metadata": {},
          "execution_count": 100
        }
      ]
    },
    {
      "cell_type": "code",
      "metadata": {
        "colab": {
          "base_uri": "https://localhost:8080/"
        },
        "id": "sz7g9ZuhZZW6",
        "outputId": "d9bf435d-75a4-4075-92af-e2f6b37fc0e7"
      },
      "source": [
        "luke.items() #retorna uma lista de tuplas, onde cada tupla representa um par chave e valor do dicionário\n"
      ],
      "execution_count": 101,
      "outputs": [
        {
          "output_type": "execute_result",
          "data": {
            "text/plain": [
              "dict_items([('nome', 'Luke'), ('idade', 16), ('peso', 70), ('classe', 'jedi')])"
            ]
          },
          "metadata": {},
          "execution_count": 101
        }
      ]
    },
    {
      "cell_type": "code",
      "metadata": {
        "id": "k8FNoTU9Zi7C",
        "colab": {
          "base_uri": "https://localhost:8080/"
        },
        "outputId": "7f552761-3182-446f-ddee-50f63151ba70"
      },
      "source": [
        "for chave, valor in luke.items():\n",
        "  print(f'luke[\\'{chave}\\'] = {valor}')"
      ],
      "execution_count": 102,
      "outputs": [
        {
          "output_type": "stream",
          "name": "stdout",
          "text": [
            "luke['nome'] = Luke\n",
            "luke['idade'] = 16\n",
            "luke['peso'] = 70\n",
            "luke['classe'] = jedi\n"
          ]
        }
      ]
    },
    {
      "cell_type": "markdown",
      "metadata": {
        "id": "4HLvEIcVeD2y"
      },
      "source": [
        "**BIBLIOTECAS EXTERNAS**"
      ]
    },
    {
      "cell_type": "code",
      "metadata": {
        "id": "VVo_FcWqiOHe"
      },
      "source": [
        "import math"
      ],
      "execution_count": 103,
      "outputs": []
    },
    {
      "cell_type": "code",
      "metadata": {
        "id": "kCdHTMqQiSR4",
        "colab": {
          "base_uri": "https://localhost:8080/"
        },
        "outputId": "b942cebb-11cf-4c48-bebf-bfa0d8aa6de7"
      },
      "source": [
        "math.pow(2,10)"
      ],
      "execution_count": 104,
      "outputs": [
        {
          "output_type": "execute_result",
          "data": {
            "text/plain": [
              "1024.0"
            ]
          },
          "metadata": {},
          "execution_count": 104
        }
      ]
    },
    {
      "cell_type": "code",
      "metadata": {
        "id": "IsOVneiCiUTh"
      },
      "source": [
        "#ATRIBUINDO UM NOME AO MODULO\n",
        "import random as ran"
      ],
      "execution_count": 105,
      "outputs": []
    },
    {
      "cell_type": "code",
      "metadata": {
        "id": "f3d-0b_Kiqi9",
        "colab": {
          "base_uri": "https://localhost:8080/"
        },
        "outputId": "9353ba0f-ebc3-420b-edd4-9dbcc8b81d8d"
      },
      "source": [
        "ran.randint(0, 10)"
      ],
      "execution_count": 106,
      "outputs": [
        {
          "output_type": "execute_result",
          "data": {
            "text/plain": [
              "2"
            ]
          },
          "metadata": {},
          "execution_count": 106
        }
      ]
    },
    {
      "cell_type": "code",
      "metadata": {
        "id": "f1iI-GcWiuDU"
      },
      "source": [
        "import numpy as np"
      ],
      "execution_count": 107,
      "outputs": []
    },
    {
      "cell_type": "code",
      "metadata": {
        "id": "U4zGH2T0i3HV"
      },
      "source": [
        "#importando apenas uma função de um módulo\n",
        "from time import sleep"
      ],
      "execution_count": 108,
      "outputs": []
    },
    {
      "cell_type": "code",
      "metadata": {
        "id": "yKaz-6bEjMSf",
        "colab": {
          "base_uri": "https://localhost:8080/"
        },
        "outputId": "1f2cfe11-1ef2-416d-e357-001b5c6679a9"
      },
      "source": [
        "#IMPORTANDO TUDO DA BIBLIOTECA - USE O ASTERISCO\n",
        "#IMPORTE SOMENTE O QUE FOR USAR\n",
        "from math import *\n",
        "print(log2(16))\n",
        "print(log10(100))"
      ],
      "execution_count": 109,
      "outputs": [
        {
          "output_type": "stream",
          "name": "stdout",
          "text": [
            "4.0\n",
            "2.0\n"
          ]
        }
      ]
    },
    {
      "cell_type": "code",
      "metadata": {
        "colab": {
          "base_uri": "https://localhost:8080/"
        },
        "id": "-lYWhIQmj_SX",
        "outputId": "719543d7-ae42-4cb2-9e5f-639b6f52d4bf"
      },
      "source": [
        "#ALGUNS MÓDULOS POSSUEM SUBMÓDULOS\n",
        "import numpy as np\n",
        "from numpy import random\n",
        "random.randint(0,10)"
      ],
      "execution_count": 110,
      "outputs": [
        {
          "output_type": "execute_result",
          "data": {
            "text/plain": [
              "5"
            ]
          },
          "metadata": {},
          "execution_count": 110
        }
      ]
    },
    {
      "cell_type": "markdown",
      "source": [
        "**Trabalhando com erros**"
      ],
      "metadata": {
        "id": "sFL8hKbqot6r"
      }
    },
    {
      "cell_type": "code",
      "metadata": {
        "id": "1TqrPiUKlH97",
        "colab": {
          "base_uri": "https://localhost:8080/"
        },
        "outputId": "aed89778-5551-4d1b-f2d4-75de25ddcf3d"
      },
      "source": [
        "# importo o pacote sys\n",
        "import sys\n",
        "\n",
        "# atribui valores as variáveis\n",
        "a = 1\n",
        "b = 5\n",
        "\n",
        "# agora eu vou tentar executar o código com tratativa de erro\n",
        "\n",
        "\n",
        "try: # estou indicando o que deve ser tentado\n",
        "  c = a + b\n",
        "except: # estou passando o que deve ser feito em caso de erro\n",
        "  print(f'Ocorreu o erro {sys.exc_info()[0]}') # o sys.exc_info()[0] retorna o nome do erro que deu\n",
        "else: \n",
        "  print(f'Operação realizada com sucesso e o resultado é {c}') # se a operação for bem sucedida eu retorno isso"
      ],
      "execution_count": 111,
      "outputs": [
        {
          "output_type": "stream",
          "name": "stdout",
          "text": [
            "Operação realizada com sucesso e o resultado é 6\n"
          ]
        }
      ]
    },
    {
      "cell_type": "markdown",
      "source": [
        "**Criando Funções**"
      ],
      "metadata": {
        "id": "1F_AyvPNrBo3"
      }
    },
    {
      "cell_type": "code",
      "source": [
        "# criando uma funcao de soma simples\n",
        "def soma(a,b):\n",
        "  return a + b\n",
        "\n",
        "# funcao de multiplicação\n",
        "def multi(a,b):\n",
        "  return a*b\n",
        "\n",
        "# calculando a média de uma lista\n",
        "def media(lista):\n",
        "  return sum(lista)/len(lista)"
      ],
      "metadata": {
        "id": "8V24TAbipCef"
      },
      "execution_count": 112,
      "outputs": []
    },
    {
      "cell_type": "code",
      "source": [
        "import random\n",
        "lista_a = [random.randint(1,100) for i in range(10)] # usei uma list comprehension pra fazer (não pule list comprehension, são muito poderosas!)\n",
        "print(f'{lista_a}\\n\\n {media(lista_a)}')"
      ],
      "metadata": {
        "colab": {
          "base_uri": "https://localhost:8080/"
        },
        "id": "wlScLjWYrK98",
        "outputId": "64175ed5-b21d-4587-a0ff-683cad1a822a"
      },
      "execution_count": 113,
      "outputs": [
        {
          "output_type": "stream",
          "name": "stdout",
          "text": [
            "[88, 96, 3, 1, 100, 62, 19, 41, 55, 35]\n",
            "\n",
            " 50.0\n"
          ]
        }
      ]
    },
    {
      "cell_type": "markdown",
      "source": [
        "Obviamente existem funções para realizar esses cálculos matemáticos mais simples (ex. NumPy). Estes são apenas exemplos. Funções servem para encapsular porções de um código e são muito úteis quando você quer diminuir o tamanho de um código. \n",
        "\n",
        "A grande mão na roda das funções é criar um bloco de código que resolve um problema recorrente mas bem exclusivo, que provavelmente só você ou um grupo específico de pessoas possui.\n",
        "\n",
        "**Aí, um novo mundo de python nasce pra você para explorar.**"
      ],
      "metadata": {
        "id": "6uk7Z6XIthdc"
      }
    }
  ]
}