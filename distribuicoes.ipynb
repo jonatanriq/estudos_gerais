{
  "nbformat": 4,
  "nbformat_minor": 0,
  "metadata": {
    "colab": {
      "provenance": [],
      "authorship_tag": "ABX9TyNwMHbj9gtQ8oibS8dFcWQR",
      "include_colab_link": true
    },
    "kernelspec": {
      "name": "python3",
      "display_name": "Python 3"
    },
    "language_info": {
      "name": "python"
    }
  },
  "cells": [
    {
      "cell_type": "markdown",
      "metadata": {
        "id": "view-in-github",
        "colab_type": "text"
      },
      "source": [
        "<a href=\"https://colab.research.google.com/github/jonatanriq/estudos_gerais/blob/main/distribuicoes.ipynb\" target=\"_parent\"><img src=\"https://colab.research.google.com/assets/colab-badge.svg\" alt=\"Open In Colab\"/></a>"
      ]
    },
    {
      "cell_type": "code",
      "source": [
        "import matplotlib.pyplot as plt\n",
        "import numpy as np"
      ],
      "metadata": {
        "id": "I6KdusHYzZHy"
      },
      "execution_count": 1,
      "outputs": []
    },
    {
      "cell_type": "markdown",
      "source": [
        "<font size='6'> Distribuicao de Bernoulli </font>\n",
        "\n",
        "[Aula de Distribuiçao de Bernoulli](https://https://www.youtube.com/watch?v=BofT2zx8bnU)\n",
        "\n",
        "<br>\n",
        "\n",
        "Usado para descrever eventos que são apenas \"sucesso\" ou \"fracasso\". <strong>Resultados binários!</strong>\n",
        "\n",
        "<font size='4' color='red'> É usado apenas para UM único evento! </font>\n"
      ],
      "metadata": {
        "id": "l-pvLwmD0Dkl"
      }
    },
    {
      "cell_type": "markdown",
      "source": [
        "<font size='6'> [Distribuicao Binomial](https://pt.wikipedia.org/wiki/Distribui%C3%A7%C3%A3o_binomial)</font>\n",
        "\n",
        "<br>\n",
        "\n",
        "\n",
        "[Aula de Distribuiçao Binomial](https://www.youtube.com/watch?v=pL7IbIX4uKU)\n",
        "\n",
        "<br>\n",
        "\n",
        "<strong> Distribuição de probabilidade discreta de sucessivos sucessos numa sequência de tentativas.</strong>\n",
        "\n",
        "\n",
        "Ela tem 3 hipóteses:\n",
        "  \n",
        "  1. *n* testes independentes e do mesmo tipo\n",
        "  2. cada teste admite 2 resultados: sucesso ou fracasso\n",
        "  3. prob. de sucesso é *p* e do fracasso é *1 - p = q*\n",
        "\n",
        "<div>\n",
        "\n",
        "<br>\n",
        "<font size='4' color='red'> Eu uso essa distribuição para saber a probabilidade de vários sucessos dentro de um rol de tentativas: </font>\n",
        "\n",
        "*Qual a probabilidade de se obter 5 caras se eu jogar uma moeda 8 vezes?*\n",
        "</div>"
      ],
      "metadata": {
        "id": "ogmgUcLD2U3p"
      }
    },
    {
      "cell_type": "markdown",
      "source": [
        "<font size='6'> Distribuicao Exponencial </font>\n",
        "\n",
        "[Aula de Distribuiçao Exponencial](https://https://www.youtube.com/watch?v=1m-EAH9O2_I)\n",
        "\n",
        "<br>\n",
        "\n",
        "Serve para calcular probabilidade, assumindo que a distribuição é de [Poisson](https://pt.wikipedia.org/wiki/Distribui%C3%A7%C3%A3o_de_Poisson)\n",
        "\n",
        "\n",
        "<font size='4' color='red'> Uso essa distribuição para saber qual a probabilidade de vários eventos ocorrerem sequencialmente </font>\n",
        "\n"
      ],
      "metadata": {
        "id": "hhdvnLjI5NJV"
      }
    },
    {
      "cell_type": "markdown",
      "source": [
        "<font size='6'> Distribuicao GAMA </font>\n",
        "\n",
        "[Aula de Distribuiçao Gama](https://youtube.com/watch?v=J0Yzmb_PY3Y)"
      ],
      "metadata": {
        "id": "dfs1ojP55SmR"
      }
    },
    {
      "cell_type": "markdown",
      "source": [
        "<font size='6'> [Distribuicao de Poisson](https://pt.wikipedia.org/wiki/Distribui%C3%A7%C3%A3o_de_Poisson) </font>\n",
        "\n",
        "<div>\n",
        "<br>\n",
        "\n",
        "[<font size='4'> Aula de Distribuiçao de Poisson </font>](https://https://www.youtube.com/watch?v=OlPQWQ-Om_M)\n",
        "\n",
        "\n",
        "</div>\n",
        "\n",
        "<br> \n",
        "\n",
        "<font size='4' color='red'> Calculo a probabilidade de um evento não ocorrer em um intervalo de tempo. </font>\n",
        "\n",
        "*Se um evento ocorre em média 2 vezes por hora, qual a probabilidade de ele não ocorrer em 1 hora e meia?*\n",
        "\n"
      ],
      "metadata": {
        "id": "IHUkh5DV6bpR"
      }
    }
  ]
}