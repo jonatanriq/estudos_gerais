{
  "nbformat": 4,
  "nbformat_minor": 0,
  "metadata": {
    "colab": {
      "name": "importando_um_codigo.ipynb",
      "provenance": [],
      "authorship_tag": "ABX9TyOmzSNERHCxyR2bKx8DqEyM",
      "include_colab_link": true
    },
    "kernelspec": {
      "name": "python3",
      "display_name": "Python 3"
    },
    "language_info": {
      "name": "python"
    }
  },
  "cells": [
    {
      "cell_type": "markdown",
      "metadata": {
        "id": "view-in-github",
        "colab_type": "text"
      },
      "source": [
        "<a href=\"https://colab.research.google.com/github/jonatanriq/estudos_gerais/blob/main/importando_um_codigo_do_github.ipynb\" target=\"_parent\"><img src=\"https://colab.research.google.com/assets/colab-badge.svg\" alt=\"Open In Colab\"/></a>"
      ]
    },
    {
      "cell_type": "markdown",
      "source": [
        "<font size='5'> \n",
        "Script rápido e sucinto de como importar um código de um repositório no GitHub\n",
        "</font>\n",
        "\n",
        "Vou importar uma função que criei no sublime e importar no Google Colab"
      ],
      "metadata": {
        "id": "0SAjCbxOpMTt"
      }
    },
    {
      "cell_type": "code",
      "execution_count": null,
      "metadata": {
        "id": "boGf4J4EgMLr"
      },
      "outputs": [],
      "source": [
        "user = 'jonatanriq'\n",
        "repo = 'funcoes'\n",
        "branch = 'master'\n",
        "arquivo = 'wavelet.py'\n",
        "\n",
        "url = f'https://raw.githubusercontent.com/{user}/{repo}/{branch}/{arquivo}'\n",
        "!wget --no-cache --backups=1 {url}\n",
        "\n",
        "import subprocess\n",
        "result = subprocess.run([\"wget\", \"--no-cache\", \"--backups=1\", url], stderr=subprocess.PIPE, stdout=subprocess.PIPE)\n",
        "print(result.stderr.decode(\"utf-8\"))\n",
        "\n",
        "pyfile = f'/content/{arquivo}'\n",
        "with open(pyfile, 'r') as f:\n",
        "    print(f.read())"
      ]
    },
    {
      "cell_type": "code",
      "source": [
        "from wavelet import wavelet_analysis\n",
        "wavelet_analysis()"
      ],
      "metadata": {
        "colab": {
          "base_uri": "https://localhost:8080/",
          "height": 181
        },
        "id": "2OR89WLSh-mZ",
        "outputId": "28203bd3-d433-4ed2-8e67-f42d45ec3347"
      },
      "execution_count": 14,
      "outputs": [
        {
          "output_type": "error",
          "ename": "TypeError",
          "evalue": "ignored",
          "traceback": [
            "\u001b[0;31m---------------------------------------------------------------------------\u001b[0m",
            "\u001b[0;31mTypeError\u001b[0m                                 Traceback (most recent call last)",
            "\u001b[0;32m<ipython-input-14-edf6754017df>\u001b[0m in \u001b[0;36m<module>\u001b[0;34m()\u001b[0m\n\u001b[1;32m      1\u001b[0m \u001b[0;32mfrom\u001b[0m \u001b[0mwavelet\u001b[0m \u001b[0;32mimport\u001b[0m \u001b[0mwavelet_analysis\u001b[0m\u001b[0;34m\u001b[0m\u001b[0;34m\u001b[0m\u001b[0m\n\u001b[0;32m----> 2\u001b[0;31m \u001b[0mwavelet_analysis\u001b[0m\u001b[0;34m(\u001b[0m\u001b[0;34m)\u001b[0m\u001b[0;34m\u001b[0m\u001b[0;34m\u001b[0m\u001b[0m\n\u001b[0m",
            "\u001b[0;31mTypeError\u001b[0m: wavelet_analysis() missing 4 required positional arguments: 'dataset', 'significancia', 'j', and 'd'"
          ]
        }
      ]
    },
    {
      "cell_type": "code",
      "source": [
        ""
      ],
      "metadata": {
        "id": "AFqMjPUTsx1b"
      },
      "execution_count": null,
      "outputs": []
    }
  ]
}