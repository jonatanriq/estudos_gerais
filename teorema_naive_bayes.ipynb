{
  "nbformat": 4,
  "nbformat_minor": 0,
  "metadata": {
    "colab": {
      "provenance": [],
      "authorship_tag": "ABX9TyMhsyBGvkyVfvk4XI6cMAgB",
      "include_colab_link": true
    },
    "kernelspec": {
      "name": "python3",
      "display_name": "Python 3"
    },
    "language_info": {
      "name": "python"
    }
  },
  "cells": [
    {
      "cell_type": "markdown",
      "metadata": {
        "id": "view-in-github",
        "colab_type": "text"
      },
      "source": [
        "<a href=\"https://colab.research.google.com/github/jonatanriq/estudos_gerais/blob/main/teorema_naive_bayes.ipynb\" target=\"_parent\"><img src=\"https://colab.research.google.com/assets/colab-badge.svg\" alt=\"Open In Colab\"/></a>"
      ]
    },
    {
      "cell_type": "markdown",
      "source": [
        "<font size='6'> [Teorema de Naive Bayes](https://www.youtube.com/watch?v=I643PqSrETM) </font>\n",
        "\n",
        "<font size='4'> [Probabilidade Condicional] </font>\n",
        "\n",
        "<br>\n",
        "<div1>\n",
        "\n",
        "Uma breve explicação de como funciona o teorema de naive bayes aplicado ao machine learning pode ser encontrado [aqui](https://www.digitalhouse.com/br/blog/naive-bayes/)!\n",
        "\n",
        "<br>\n",
        "\n",
        "No Kaggle tem um [script](https://www.kaggle.com/code/prashant111/naive-bayes-classifier-in-python) em python que utiliza o classificador também! Nesse script tem uma explicação completinha de como aplicá-lo.\n",
        "\n",
        "<br>\n",
        "\n",
        "Em machine learning, é bom para *natural language processing*...\n",
        "</div1>"
      ],
      "metadata": {
        "id": "o8Q4YqmMU1gf"
      }
    },
    {
      "cell_type": "code",
      "execution_count": 2,
      "metadata": {
        "id": "0Muky4EbS4k-"
      },
      "outputs": [],
      "source": [
        "# primeiro importamos os pacotes básicos para python\n",
        "\n",
        "import numpy as np # linear algebra\n",
        "import pandas as pd # data processing, CSV file I/O (e.g. pd.read_csv)\n",
        "import matplotlib.pyplot as plt # for data visualization purposes\n",
        "import seaborn as sns # for statistical data visualization\n",
        "%matplotlib inline"
      ]
    },
    {
      "cell_type": "markdown",
      "source": [
        "<div2>\n",
        "<font size='3'> É uma probabilidade combinada. Colcando na forma de uma expressão seria: </font>\n",
        "\n",
        "</div>\n",
        "<br>\n",
        "\n",
        "<font size='3' color='red'> <strong> *Qual a probabilidade do evento A ocorrer dado que ocorreu o evento B?* </strong> </font>"
      ],
      "metadata": {
        "id": "7EEmbbZgXn5t"
      }
    },
    {
      "cell_type": "code",
      "source": [
        "# apenas um filtro de avisos\n",
        "import warnings\n",
        "\n",
        "warnings.filterwarnings('ignore')"
      ],
      "metadata": {
        "id": "wuDTYaoWXWe-"
      },
      "execution_count": 4,
      "outputs": []
    },
    {
      "cell_type": "markdown",
      "source": [
        "Um algoritmo de <strong> Bayes Gaussiano </strong> é usado quando temos valores contínuos, e partimos da premissa que cada classe está distribuída de acordo com a curva gaussiana ou [Curva Normal](https://pt.wikipedia.org/wiki/Distribui%C3%A7%C3%A3o_normal)."
      ],
      "metadata": {
        "id": "SfJf9zkdbDCr"
      }
    },
    {
      "cell_type": "markdown",
      "source": [
        "O [tutorial do DataCamp](https://www.datacamp.com/tutorial/naive-bayes-scikit-learn) para uso do Naive Bayes dá um panorama interessante sobre a utilização desse modelo para classificação.\n",
        "\n",
        "Vale a pena verificar ele depois se for aplicar pra algum dataset."
      ],
      "metadata": {
        "id": "u0MzIg2oepnl"
      }
    }
  ]
}